{
 "cells": [
  {
   "cell_type": "code",
   "execution_count": 8,
   "id": "0",
   "metadata": {},
   "outputs": [],
   "source": [
    "import numpy as np"
   ]
  },
  {
   "cell_type": "code",
   "execution_count": 9,
   "id": "4fe0acf6-4fc7-4802-be98-9a782c06e560",
   "metadata": {},
   "outputs": [],
   "source": [
    "import apple"
   ]
  },
  {
   "cell_type": "code",
   "execution_count": 10,
   "id": "13bfa9a7-7d8a-4532-9e13-740f4193b29d",
   "metadata": {},
   "outputs": [],
   "source": [
    "bs=np.random.rand(100)"
   ]
  },
  {
   "cell_type": "code",
   "execution_count": 11,
   "id": "a79d335d-c09a-433e-8ba7-c6a43fbdab86",
   "metadata": {},
   "outputs": [],
   "source": [
    "from numpy.lib.stride_tricks import sliding_window_view"
   ]
  },
  {
   "cell_type": "code",
   "execution_count": 12,
   "id": "fa318659-6a30-4149-9f5f-15b6feea8579",
   "metadata": {},
   "outputs": [
    {
     "name": "stdout",
     "output_type": "stream",
     "text": [
      "8.74 µs ± 44.6 ns per loop (mean ± std. dev. of 7 runs, 100,000 loops each)\n"
     ]
    }
   ],
   "source": [
    "%timeit np.max(sliding_window_view(bs,7),axis=1)"
   ]
  },
  {
   "cell_type": "code",
   "execution_count": 13,
   "id": "d53e7e45-e22f-4892-9938-ab879535c500",
   "metadata": {},
   "outputs": [],
   "source": [
    "am=apple.jit('λas. ((⋉)/)\\\\`7 (as :: Vec n float)')"
   ]
  },
  {
   "cell_type": "code",
   "execution_count": 14,
   "id": "f34ccaa3-2731-4c51-8770-54dd91474b86",
   "metadata": {},
   "outputs": [
    {
     "name": "stdout",
     "output_type": "stream",
     "text": [
      "464 ns ± 4.87 ns per loop (mean ± std. dev. of 7 runs, 1,000,000 loops each)\n"
     ]
    }
   ],
   "source": [
    "%timeit am(bs)"
   ]
  }
 ],
 "metadata": {
  "kernelspec": {
   "display_name": "Python3.12",
   "language": "python",
   "name": "python312"
  },
  "language_info": {
   "codemirror_mode": {
    "name": "ipython",
    "version": 3
   },
   "file_extension": ".py",
   "mimetype": "text/x-python",
   "name": "python",
   "nbconvert_exporter": "python",
   "pygments_lexer": "ipython3",
   "version": "3.12.7"
  }
 },
 "nbformat": 4,
 "nbformat_minor": 5
}
