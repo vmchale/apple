{
 "cells": [
  {
   "cell_type": "code",
   "execution_count": 1,
   "id": "7d962549",
   "metadata": {},
   "outputs": [],
   "source": [
    "import apple"
   ]
  },
  {
   "cell_type": "code",
   "execution_count": 2,
   "id": "afd06849",
   "metadata": {},
   "outputs": [],
   "source": [
    "kl=apple.jit('λp.λq. (+)/([x*_.(x%y)]`p q)')"
   ]
  },
  {
   "cell_type": "code",
   "execution_count": 3,
   "id": "6ec52b0e",
   "metadata": {},
   "outputs": [],
   "source": [
    "from scipy.stats import entropy"
   ]
  },
  {
   "cell_type": "code",
   "execution_count": 4,
   "id": "55ef21a4",
   "metadata": {},
   "outputs": [],
   "source": [
    "import numpy as np"
   ]
  },
  {
   "cell_type": "code",
   "execution_count": 5,
   "id": "8188b2f2",
   "metadata": {},
   "outputs": [],
   "source": [
    "a=np.arange(0,1000,dtype=np.float64);a.fill(1/1000)"
   ]
  },
  {
   "cell_type": "code",
   "execution_count": 6,
   "id": "f3a5c853",
   "metadata": {},
   "outputs": [
    {
     "name": "stdout",
     "output_type": "stream",
     "text": [
      "135 μs ± 1.27 μs per loop (mean ± std. dev. of 7 runs, 10,000 loops each)\n"
     ]
    }
   ],
   "source": [
    "%timeit entropy(a,a)"
   ]
  },
  {
   "cell_type": "code",
   "execution_count": 7,
   "id": "bc9edb7e",
   "metadata": {},
   "outputs": [
    {
     "name": "stdout",
     "output_type": "stream",
     "text": [
      "5.56 μs ± 51.2 ns per loop (mean ± std. dev. of 7 runs, 100,000 loops each)\n"
     ]
    }
   ],
   "source": [
    "%timeit kl(a,a)"
   ]
  },
  {
   "cell_type": "code",
   "execution_count": 9,
   "id": "d0308720",
   "metadata": {},
   "outputs": [],
   "source": [
    "b=np.arange(0,1000000,dtype=np.float64);b.fill(1/1000000)"
   ]
  },
  {
   "cell_type": "code",
   "execution_count": 11,
   "id": "d0285dee",
   "metadata": {},
   "outputs": [
    {
     "name": "stdout",
     "output_type": "stream",
     "text": [
      "8.51 ms ± 66.3 μs per loop (mean ± std. dev. of 7 runs, 100 loops each)\n"
     ]
    }
   ],
   "source": [
    "%timeit entropy(b,b)"
   ]
  },
  {
   "cell_type": "code",
   "execution_count": 12,
   "id": "03d2b6d5",
   "metadata": {},
   "outputs": [
    {
     "name": "stdout",
     "output_type": "stream",
     "text": [
      "6.08 ms ± 106 μs per loop (mean ± std. dev. of 7 runs, 100 loops each)\n"
     ]
    }
   ],
   "source": [
    "%timeit kl(b,b)"
   ]
  }
 ],
 "metadata": {
  "kernelspec": {
   "display_name": "Python 3 (ipykernel)",
   "language": "python",
   "name": "python3"
  },
  "language_info": {
   "codemirror_mode": {
    "name": "ipython",
    "version": 3
   },
   "file_extension": ".py",
   "mimetype": "text/x-python",
   "name": "python",
   "nbconvert_exporter": "python",
   "pygments_lexer": "ipython3",
   "version": "3.13.0"
  }
 },
 "nbformat": 4,
 "nbformat_minor": 5
}
