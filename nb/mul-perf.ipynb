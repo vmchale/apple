{
 "cells": [
  {
   "cell_type": "code",
   "execution_count": 1,
   "id": "155b5dab",
   "metadata": {},
   "outputs": [],
   "source": [
    "import numpy as np"
   ]
  },
  {
   "cell_type": "code",
   "execution_count": 2,
   "id": "c5efafa4",
   "metadata": {},
   "outputs": [],
   "source": [
    "bs=np.random.rand(1024,1024)"
   ]
  },
  {
   "cell_type": "code",
   "execution_count": 3,
   "id": "d18049e3",
   "metadata": {},
   "outputs": [
    {
     "name": "stdout",
     "output_type": "stream",
     "text": [
      "8.48 ms ± 285 μs per loop (mean ± std. dev. of 7 runs, 100 loops each)\n"
     ]
    }
   ],
   "source": [
    "%timeit bs@bs"
   ]
  },
  {
   "cell_type": "code",
   "execution_count": 4,
   "id": "452ea20d",
   "metadata": {},
   "outputs": [],
   "source": [
    "import apple"
   ]
  },
  {
   "cell_type": "code",
   "execution_count": 5,
   "id": "76e6d5c2",
   "metadata": {},
   "outputs": [],
   "source": [
    "mul=apple.jit(\"[(x::M ₁₀₂₄,₁₀₂₄ float)%.(y::M ₁₀₂₄,₁₀₂₄ float)]\")"
   ]
  },
  {
   "cell_type": "code",
   "execution_count": 6,
   "id": "113bba96",
   "metadata": {},
   "outputs": [
    {
     "data": {
      "text/plain": [
       "array([[251.45541428, 257.94422729, 255.87073356, ..., 258.28951197,\n",
       "        236.89237994, 250.93807   ],\n",
       "       [256.95720641, 251.12736383, 253.98999336, ..., 249.72087659,\n",
       "        241.06448795, 249.83635874],\n",
       "       [266.95684752, 266.07923895, 262.80893821, ..., 262.8214398 ,\n",
       "        250.85260376, 261.37442239],\n",
       "       ...,\n",
       "       [256.16356266, 254.70521046, 254.01851019, ..., 249.01874198,\n",
       "        237.94440096, 249.25650742],\n",
       "       [256.71100858, 260.29697177, 249.89433855, ..., 252.24257972,\n",
       "        244.56416683, 253.66486174],\n",
       "       [258.33052344, 250.67483978, 251.02899366, ..., 248.02321239,\n",
       "        245.33418003, 245.99051407]])"
      ]
     },
     "execution_count": 6,
     "metadata": {},
     "output_type": "execute_result"
    }
   ],
   "source": [
    "mul(bs,bs)"
   ]
  },
  {
   "cell_type": "code",
   "execution_count": 7,
   "id": "b1f1bfa5",
   "metadata": {},
   "outputs": [
    {
     "data": {
      "text/plain": [
       "array([[251.45541428, 257.94422729, 255.87073356, ..., 258.28951197,\n",
       "        236.89237994, 250.93807   ],\n",
       "       [256.95720641, 251.12736383, 253.98999336, ..., 249.72087659,\n",
       "        241.06448795, 249.83635874],\n",
       "       [266.95684752, 266.07923895, 262.80893821, ..., 262.8214398 ,\n",
       "        250.85260376, 261.37442239],\n",
       "       ...,\n",
       "       [256.16356266, 254.70521046, 254.01851019, ..., 249.01874198,\n",
       "        237.94440096, 249.25650742],\n",
       "       [256.71100858, 260.29697177, 249.89433855, ..., 252.24257972,\n",
       "        244.56416683, 253.66486174],\n",
       "       [258.33052344, 250.67483978, 251.02899366, ..., 248.02321239,\n",
       "        245.33418003, 245.99051407]])"
      ]
     },
     "execution_count": 7,
     "metadata": {},
     "output_type": "execute_result"
    }
   ],
   "source": [
    "bs@bs"
   ]
  },
  {
   "cell_type": "code",
   "execution_count": 8,
   "id": "b29f961a",
   "metadata": {},
   "outputs": [
    {
     "name": "stdout",
     "output_type": "stream",
     "text": [
      "246 ms ± 821 μs per loop (mean ± std. dev. of 7 runs, 1 loop each)\n"
     ]
    }
   ],
   "source": [
    "%timeit mul(bs,bs)"
   ]
  }
 ],
 "metadata": {
  "kernelspec": {
   "display_name": "Python 3 (ipykernel)",
   "language": "python",
   "name": "python3"
  },
  "language_info": {
   "codemirror_mode": {
    "name": "ipython",
    "version": 3
   },
   "file_extension": ".py",
   "mimetype": "text/x-python",
   "name": "python",
   "nbconvert_exporter": "python",
   "pygments_lexer": "ipython3",
   "version": "3.13.0"
  }
 },
 "nbformat": 4,
 "nbformat_minor": 5
}
