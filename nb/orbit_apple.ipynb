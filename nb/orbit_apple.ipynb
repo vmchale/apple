{
 "cells": [
  {
   "cell_type": "code",
   "execution_count": 1,
   "id": "7ee00b76-410a-48dc-98c7-8164516286e9",
   "metadata": {},
   "outputs": [],
   "source": [
    "# this is by Simone Conradi but the orbit is generated in Apple\n",
    "# https://github.com/profConradi/Python_Simulations/blob/main/Nice_orbits.ipynb\n",
    "\n",
    "import numpy as np\n",
    "import matplotlib.pyplot as plt\n",
    "from matplotlib.colors import ListedColormap, LinearSegmentedColormap, to_rgb\n",
    "from matplotlib import rcParams\n",
    "\n",
    "#Latex is needed to create plot titles\n",
    "rcParams['text.usetex'] = True #set this to False if Latex distribution is not installed\n",
    "rcParams[\"text.latex.preamble\"] = r\"\\usepackage{amsmath}\\usepackage{amsfonts}\\usepackage{systeme}\"\n",
    "%config InlineBackend.figure_format = 'retina'"
   ]
  },
  {
   "cell_type": "code",
   "execution_count": 2,
   "id": "56f53217-4a45-467a-bf83-183e22c5c50e",
   "metadata": {},
   "outputs": [],
   "source": [
    "def create_colormap(hex_color1, hex_color2, reverse=False):\n",
    "    \"\"\"\n",
    "    Create a linearly interpolated colormap from two hex colors.\n",
    "\n",
    "    -hex_color1: String, the first hex color (e.g., \"#FF0000\" for red)\n",
    "    -hex_color2: String, the second hex color (e.g., \"#0000FF\" for blue)\n",
    "    -reverse: Boolean, invert colors.\n",
    "    \n",
    "    Return: LinearSegmentedColormap\n",
    "    \"\"\"\n",
    "    color1 = to_rgb(hex_color1)\n",
    "    color2 = to_rgb(hex_color2)\n",
    "    if reverse:\n",
    "        colors = [color2, color1]\n",
    "    else:\n",
    "        colors = [color1, color2]\n",
    "    cmap = LinearSegmentedColormap.from_list(\"custom_colormap\", colors)\n",
    "\n",
    "    return cmap"
   ]
  },
  {
   "cell_type": "code",
   "execution_count": 3,
   "id": "4626cd63-b2db-407c-8157-30eefd550c11",
   "metadata": {},
   "outputs": [],
   "source": [
    "# a custom colormap\n",
    "c_labels = \"#000000\"\n",
    "yellow_map = create_colormap(\"#000000\", \"#ffe100\", True)"
   ]
  },
  {
   "cell_type": "code",
   "execution_count": 4,
   "id": "354b5c22",
   "metadata": {},
   "outputs": [],
   "source": [
    "import apple"
   ]
  },
  {
   "cell_type": "code",
   "execution_count": 5,
   "id": "997579d3",
   "metadata": {},
   "outputs": [],
   "source": [
    "orb_x=apple.jit('''\n",
    "λa.λb.\n",
    "{\n",
    "  g ← λ(x,y). (sin. (x^2-y^2+a), cos. (2*x*y+b));\n",
    "  (frange _1 1 500) [(->1)'(gen. (x,y) g 200)]⊗ (frange _1 1 500)\n",
    "}\n",
    "''')"
   ]
  },
  {
   "cell_type": "code",
   "execution_count": 6,
   "id": "e2cf4218",
   "metadata": {},
   "outputs": [],
   "source": [
    "orb_y=apple.jit('''\n",
    "λa.λb.\n",
    "{\n",
    "  g ← λ(x,y). (sin. (x^2-y^2+a), cos. (2*x*y+b));\n",
    "  (frange _1 1 500) [(->2)'(gen. (x,y) g 200)]⊗ (frange _1 1 500)\n",
    "}\n",
    "''')"
   ]
  },
  {
   "cell_type": "code",
   "execution_count": 7,
   "id": "92c6a0e0",
   "metadata": {},
   "outputs": [],
   "source": [
    "a,b=5.46,4.55"
   ]
  },
  {
   "cell_type": "code",
   "execution_count": 8,
   "id": "f5409979",
   "metadata": {},
   "outputs": [],
   "source": [
    "l_cx=orb_x(a,b)"
   ]
  },
  {
   "cell_type": "code",
   "execution_count": 9,
   "id": "bdc9b2d6",
   "metadata": {},
   "outputs": [],
   "source": [
    "l_cy=orb_y(a,b)"
   ]
  },
  {
   "cell_type": "code",
   "execution_count": 10,
   "id": "9497fa5f",
   "metadata": {},
   "outputs": [],
   "source": [
    "l_cx=l_cx.flatten()\n",
    "l_cy=l_cy.flatten()"
   ]
  },
  {
   "cell_type": "code",
   "execution_count": 11,
   "id": "602fe1e6",
   "metadata": {},
   "outputs": [
    {
     "name": "stdout",
     "output_type": "stream",
     "text": [
      "1.25 s ± 30.7 ms per loop (mean ± std. dev. of 7 runs, 1 loop each)\n"
     ]
    }
   ],
   "source": [
    "%timeit orb_x(a,b)"
   ]
  },
  {
   "cell_type": "code",
   "execution_count": null,
   "id": "00e7e689-8acb-4ae9-9cad-bf209ca6b03e",
   "metadata": {},
   "outputs": [],
   "source": [
    "area = [[-1,1],[-1,1]]\n",
    "h,_,_ = np.histogram2d(l_cx,l_cy,bins=3000,range=area)"
   ]
  },
  {
   "cell_type": "code",
   "execution_count": null,
   "id": "0848e064-5d13-435e-b06c-2a1b3569096b",
   "metadata": {},
   "outputs": [],
   "source": [
    "fig, ax = plt.subplots(figsize=(10,10))\n",
    "fig.subplots_adjust(left=0, bottom=0, right=1, top=1, wspace=None, hspace=None)\n",
    "ax.imshow(np.log(h+1),vmin=0,vmax=5,cmap=yellow_map)\n",
    "plt.xticks([]), plt.yticks([])\n",
    "ax.set_title(r'$\\begin{array}{lr} x_{t+1} = \\sin(x_t^2-y_t^2 + %s) \\\\ y_{t+1} = \\cos(2x_t y_t + %s) \\end{array}$'%(a,b), \n",
    "             y=0.05, fontsize=15, color=c_labels )\n",
    "plt.show()"
   ]
  }
 ],
 "metadata": {
  "kernelspec": {
   "display_name": "Python 3 (ipykernel)",
   "language": "python",
   "name": "python3"
  },
  "language_info": {
   "codemirror_mode": {
    "name": "ipython",
    "version": 3
   },
   "file_extension": ".py",
   "mimetype": "text/x-python",
   "name": "python",
   "nbconvert_exporter": "python",
   "pygments_lexer": "ipython3",
   "version": "3.13.0"
  }
 },
 "nbformat": 4,
 "nbformat_minor": 5
}
