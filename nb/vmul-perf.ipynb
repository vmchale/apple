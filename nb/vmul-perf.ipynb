{
 "cells": [
  {
   "cell_type": "code",
   "execution_count": 1,
   "id": "1b078621",
   "metadata": {},
   "outputs": [],
   "source": [
    "import numpy as np"
   ]
  },
  {
   "cell_type": "code",
   "execution_count": 2,
   "id": "317f070c",
   "metadata": {},
   "outputs": [],
   "source": [
    "A=np.random.rand(64,64)"
   ]
  },
  {
   "cell_type": "code",
   "execution_count": 3,
   "id": "ce0e852b",
   "metadata": {},
   "outputs": [],
   "source": [
    "x=np.random.rand(64)"
   ]
  },
  {
   "cell_type": "code",
   "execution_count": 4,
   "id": "ace18b2f",
   "metadata": {},
   "outputs": [
    {
     "name": "stdout",
     "output_type": "stream",
     "text": [
      "891 ns ± 2.54 ns per loop (mean ± std. dev. of 7 runs, 1,000,000 loops each)\n"
     ]
    }
   ],
   "source": [
    "%timeit A@x"
   ]
  },
  {
   "cell_type": "code",
   "execution_count": 5,
   "id": "b2fe1263",
   "metadata": {},
   "outputs": [],
   "source": [
    "import apple"
   ]
  },
  {
   "cell_type": "code",
   "execution_count": 6,
   "id": "48b7a4d3",
   "metadata": {},
   "outputs": [],
   "source": [
    "v6=apple.jit('[x::Arr (64×64) float%:y]')"
   ]
  },
  {
   "cell_type": "code",
   "execution_count": 7,
   "id": "f6ef03f1",
   "metadata": {},
   "outputs": [
    {
     "name": "stdout",
     "output_type": "stream",
     "text": [
      "1.53 μs ± 14.6 ns per loop (mean ± std. dev. of 7 runs, 1,000,000 loops each)\n"
     ]
    }
   ],
   "source": [
    "%timeit v6(A,x)"
   ]
  },
  {
   "cell_type": "code",
   "execution_count": 8,
   "id": "e23aad84",
   "metadata": {},
   "outputs": [],
   "source": [
    "B=np.random.rand(512,512)"
   ]
  },
  {
   "cell_type": "code",
   "execution_count": 9,
   "id": "d9da4751",
   "metadata": {},
   "outputs": [],
   "source": [
    "y=np.random.rand(512)"
   ]
  },
  {
   "cell_type": "code",
   "execution_count": 10,
   "id": "6233219a",
   "metadata": {},
   "outputs": [
    {
     "name": "stdout",
     "output_type": "stream",
     "text": [
      "13.7 μs ± 166 ns per loop (mean ± std. dev. of 7 runs, 100,000 loops each)\n"
     ]
    }
   ],
   "source": [
    "%timeit B@y"
   ]
  },
  {
   "cell_type": "code",
   "execution_count": 11,
   "id": "abed653c",
   "metadata": {},
   "outputs": [],
   "source": [
    "v9=apple.jit('[x::Arr (512×512) float%:y]')"
   ]
  },
  {
   "cell_type": "code",
   "execution_count": 12,
   "id": "dca3475d",
   "metadata": {},
   "outputs": [
    {
     "name": "stdout",
     "output_type": "stream",
     "text": [
      "184 μs ± 7.97 μs per loop (mean ± std. dev. of 7 runs, 10,000 loops each)\n"
     ]
    }
   ],
   "source": [
    "%timeit v9(B,y)"
   ]
  },
  {
   "cell_type": "code",
   "execution_count": 13,
   "id": "8d7e367e",
   "metadata": {},
   "outputs": [],
   "source": [
    "dp=apple.jit(\"[(+)/(*)` (x::Vec n float) y]\")"
   ]
  },
  {
   "cell_type": "code",
   "execution_count": 14,
   "id": "6f5ed52f",
   "metadata": {},
   "outputs": [],
   "source": [
    "xs=np.random.rand(10000);ys=np.random.rand(10000)"
   ]
  },
  {
   "cell_type": "code",
   "execution_count": 15,
   "id": "bd40e925",
   "metadata": {},
   "outputs": [
    {
     "name": "stdout",
     "output_type": "stream",
     "text": [
      "2.39 μs ± 5.66 ns per loop (mean ± std. dev. of 7 runs, 100,000 loops each)\n"
     ]
    }
   ],
   "source": [
    "%timeit xs.dot(ys)"
   ]
  },
  {
   "cell_type": "code",
   "execution_count": 16,
   "id": "2b9fc786",
   "metadata": {},
   "outputs": [
    {
     "name": "stdout",
     "output_type": "stream",
     "text": [
      "10.6 μs ± 294 ns per loop (mean ± std. dev. of 7 runs, 100,000 loops each)\n"
     ]
    }
   ],
   "source": [
    "%timeit dp(xs,ys)"
   ]
  },
  {
   "cell_type": "code",
   "execution_count": 17,
   "id": "643717be",
   "metadata": {},
   "outputs": [],
   "source": [
    "def np_dot(xs,ys):\n",
    "    return np.sum(xs*ys)"
   ]
  },
  {
   "cell_type": "code",
   "execution_count": 18,
   "id": "3844f4c8",
   "metadata": {},
   "outputs": [
    {
     "data": {
      "text/plain": [
       "np.float64(2460.403609379275)"
      ]
     },
     "execution_count": 18,
     "metadata": {},
     "output_type": "execute_result"
    }
   ],
   "source": [
    "np_dot(xs,ys)"
   ]
  },
  {
   "cell_type": "code",
   "execution_count": 19,
   "id": "36ffe0aa",
   "metadata": {},
   "outputs": [
    {
     "name": "stdout",
     "output_type": "stream",
     "text": [
      "6.4 μs ± 47 ns per loop (mean ± std. dev. of 7 runs, 100,000 loops each)\n"
     ]
    }
   ],
   "source": [
    "%timeit np_dot(xs,ys)"
   ]
  }
 ],
 "metadata": {
  "kernelspec": {
   "display_name": "Python 3 (ipykernel)",
   "language": "python",
   "name": "python3"
  },
  "language_info": {
   "codemirror_mode": {
    "name": "ipython",
    "version": 3
   },
   "file_extension": ".py",
   "mimetype": "text/x-python",
   "name": "python",
   "nbconvert_exporter": "python",
   "pygments_lexer": "ipython3",
   "version": "3.13.0"
  }
 },
 "nbformat": 4,
 "nbformat_minor": 5
}
